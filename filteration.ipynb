{
 "cells": [
  {
   "cell_type": "code",
   "execution_count": 1,
   "id": "bd005d76-0430-4fd0-9e76-0d1b188d5f0d",
   "metadata": {},
   "outputs": [],
   "source": [
    "import re"
   ]
  },
  {
   "cell_type": "code",
   "execution_count": 2,
   "id": "c6f9c34e-8fa9-4cbb-9cdb-f39b422e4014",
   "metadata": {},
   "outputs": [],
   "source": [
    "raw_data = \"goldman_sachs2.txt\"\n",
    "cleaned_data = re.sub(r'(Follow\\s*Us\\s*On:|Trending\\s*Topics|Advertisement|Remove\\s*Ad|Stocks:\\s[A-Z]+|News\\s+Business)', '', raw_data)\n",
    "cleaned_data = cleaned_data.strip()"
   ]
  },
  {
   "cell_type": "code",
   "execution_count": null,
   "id": "fa3d0364-bc3c-4298-883a-5bdf73b043a2",
   "metadata": {},
   "outputs": [],
   "source": []
  }
 ],
 "metadata": {
  "kernelspec": {
   "display_name": "Python 3 (ipykernel)",
   "language": "python",
   "name": "python3"
  },
  "language_info": {
   "codemirror_mode": {
    "name": "ipython",
    "version": 3
   },
   "file_extension": ".py",
   "mimetype": "text/x-python",
   "name": "python",
   "nbconvert_exporter": "python",
   "pygments_lexer": "ipython3",
   "version": "3.12.3"
  }
 },
 "nbformat": 4,
 "nbformat_minor": 5
}
